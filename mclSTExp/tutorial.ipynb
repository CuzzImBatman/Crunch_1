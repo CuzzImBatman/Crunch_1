{
 "cells": [
  {
   "cell_type": "code",
   "execution_count": null,
   "id": "initial_id",
   "metadata": {
    "ExecuteTime": {
     "end_time": "2024-04-09T01:43:00.545494800Z",
     "start_time": "2024-04-09T01:43:00.522522900Z"
    },
    "collapsed": true
   },
   "outputs": [],
   "source": [
    "!py train.py\n",
    "!py evel.py"
   ]
  },
  {
   "cell_type": "code",
   "execution_count": null,
   "id": "bbaf0dcda3583ea0",
   "metadata": {
    "collapsed": false
   },
   "outputs": [],
   "source": []
  }
 ],
 "metadata": {
  "kernelspec": {
   "display_name": "Python 3 (ipykernel)",
   "language": "python",
   "name": "python3"
  },
  "language_info": {
   "codemirror_mode": {
    "name": "ipython",
    "version": 3
   },
   "file_extension": ".py",
   "mimetype": "text/x-python",
   "name": "python",
   "nbconvert_exporter": "python",
   "pygments_lexer": "ipython3",
   "version": "3.9.20"
  }
 },
 "nbformat": 4,
 "nbformat_minor": 5
}
