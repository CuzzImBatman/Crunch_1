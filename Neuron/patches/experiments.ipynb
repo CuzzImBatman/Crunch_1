{
 "cells": [
  {
   "cell_type": "code",
   "execution_count": 2,
   "metadata": {},
   "outputs": [
    {
     "name": "stdout",
     "output_type": "stream",
     "text": [
      "C:\\DATA\\Crunch\\neuron\\patches\n"
     ]
    }
   ],
   "source": [
    "%cd patches"
   ]
  },
  {
   "cell_type": "code",
   "execution_count": 1,
   "metadata": {},
   "outputs": [],
   "source": [
    "import sys\n",
    "sys.path.append('../')\n",
    "from VQVAE import VQVAE,VQVAEDataGenerator\n"
   ]
  },
  {
   "cell_type": "code",
   "execution_count": 4,
   "metadata": {},
   "outputs": [],
   "source": [
    "from VQVAE import VQVAE,VQVAEDataGenerator\n",
    "import os\n",
    "import glob\n",
    "import random\n",
    "import numpy as np\n",
    "from PIL import Image\n",
    "import torch\n",
    "import torch.nn as nn\n",
    "import torch.optim as optim\n",
    "from torch.utils.data import Dataset, DataLoader\n",
    "\n",
    "# Vector Quantizer\n",
    "from torch.utils.tensorboard import SummaryWriter\n",
    "import csv\n",
    "import os"
   ]
  },
  {
   "cell_type": "code",
   "execution_count": 5,
   "metadata": {},
   "outputs": [],
   "source": [
    "tensor_folder = f'E:/Projects/Gene_expression/Crunch/patches/20'\n",
    "dataset = VQVAEDataGenerator(tensor_folder)"
   ]
  },
  {
   "cell_type": "code",
   "execution_count": 7,
   "metadata": {},
   "outputs": [],
   "source": [
    "from torchvision.transforms import ToPILImage\n",
    "\n",
    "dataset[1].shape\n",
    "to_pil = ToPILImage()\n",
    "pil_image = to_pil(dataset[1])\n",
    "\n",
    "# Display the image (if running locally)\n",
    "pil_image.show()"
   ]
  },
  {
   "cell_type": "code",
   "execution_count": 6,
   "metadata": {},
   "outputs": [],
   "source": [
    "dataloader = DataLoader(dataset, batch_size=2048, shuffle=False)"
   ]
  },
  {
   "cell_type": "code",
   "execution_count": 7,
   "metadata": {},
   "outputs": [
    {
     "data": {
      "text/plain": [
       "<All keys matched successfully>"
      ]
     },
     "execution_count": 7,
     "metadata": {},
     "output_type": "execute_result"
    }
   ],
   "source": [
    "vqvae = VQVAE(image_size=20, latent_dim=16, num_embeddings=1024)\n",
    "checkpoint= torch.load('./checkpoint/encoder-epoch-0009-loss-49.5791.pth')\n",
    "vqvae.load_state_dict(checkpoint['model_state_dict'])"
   ]
  },
  {
   "cell_type": "code",
   "execution_count": 8,
   "metadata": {},
   "outputs": [],
   "source": [
    "encoder=vqvae.encoder.to('cuda')\n",
    "vq_layer= vqvae.vq_layer.to('cuda')"
   ]
  },
  {
   "cell_type": "code",
   "execution_count": 11,
   "metadata": {},
   "outputs": [],
   "source": [
    "\n",
    "list_batch=[]\n",
    "count=0\n",
    "for batch in dataloader:\n",
    "    batch=batch.to('cuda')\n",
    "    emb= encoder(batch)\n",
    "    \n",
    "    test,_= vq_layer(emb)\n",
    "    list_batch.append(test)\n",
    "    count+=1\n",
    "    if count==2:\n",
    "        break"
   ]
  },
  {
   "cell_type": "code",
   "execution_count": 12,
   "metadata": {},
   "outputs": [
    {
     "data": {
      "text/plain": [
       "torch.Size([2048, 16, 5, 5])"
      ]
     },
     "execution_count": 12,
     "metadata": {},
     "output_type": "execute_result"
    }
   ],
   "source": [
    "list_batch[0].shape"
   ]
  },
  {
   "cell_type": "code",
   "execution_count": 12,
   "metadata": {},
   "outputs": [
    {
     "data": {
      "text/plain": [
       "torch.Size([20, 3, 20, 20])"
      ]
     },
     "execution_count": 12,
     "metadata": {},
     "output_type": "execute_result"
    }
   ],
   "source": [
    "stacked_tensor = torch.cat(list_batch, dim=0)\n",
    "stacked_tensor.shape"
   ]
  },
  {
   "cell_type": "code",
   "execution_count": 25,
   "metadata": {},
   "outputs": [
    {
     "data": {
      "text/plain": [
       "tensor([[[-0.4967, -0.4969, -0.4969,  ..., -0.4974, -0.4974, -0.4974],\n",
       "         [-0.4967, -0.4969, -0.4969,  ..., -0.4974, -0.4974, -0.4974],\n",
       "         [-0.4968, -0.4972, -0.4972,  ..., -0.4974, -0.4974, -0.4974],\n",
       "         ...,\n",
       "         [-0.4988, -0.4987, -0.4987,  ..., -0.4966, -0.4966, -0.4966],\n",
       "         [-0.4990, -0.4987, -0.4987,  ..., -0.4966, -0.4966, -0.4966],\n",
       "         [-0.4990, -0.4987, -0.4987,  ..., -0.4966, -0.4966, -0.4966]],\n",
       "\n",
       "        [[-0.4993, -0.4993, -0.4993,  ..., -0.4993, -0.4993, -0.4993],\n",
       "         [-0.4993, -0.4993, -0.4993,  ..., -0.4993, -0.4993, -0.4993],\n",
       "         [-0.4993, -0.4993, -0.4993,  ..., -0.4992, -0.4992, -0.4992],\n",
       "         ...,\n",
       "         [-0.4996, -0.4996, -0.4996,  ..., -0.4988, -0.4988, -0.4988],\n",
       "         [-0.4997, -0.4996, -0.4996,  ..., -0.4988, -0.4988, -0.4988],\n",
       "         [-0.4997, -0.4996, -0.4996,  ..., -0.4988, -0.4988, -0.4988]],\n",
       "\n",
       "        [[-0.4978, -0.4979, -0.4979,  ..., -0.4982, -0.4982, -0.4982],\n",
       "         [-0.4978, -0.4979, -0.4979,  ..., -0.4982, -0.4982, -0.4982],\n",
       "         [-0.4978, -0.4978, -0.4978,  ..., -0.4983, -0.4983, -0.4983],\n",
       "         ...,\n",
       "         [-0.4985, -0.4986, -0.4986,  ..., -0.4976, -0.4976, -0.4976],\n",
       "         [-0.4988, -0.4988, -0.4988,  ..., -0.4975, -0.4975, -0.4975],\n",
       "         [-0.4988, -0.4988, -0.4988,  ..., -0.4975, -0.4975, -0.4975]]])"
      ]
     },
     "execution_count": 25,
     "metadata": {},
     "output_type": "execute_result"
    }
   ],
   "source": [
    "batch[0]"
   ]
  },
  {
   "cell_type": "code",
   "execution_count": 11,
   "metadata": {},
   "outputs": [
    {
     "data": {
      "text/plain": [
       "tensor([[-0.4784, -0.5020, -0.5020, -0.4784, -0.5098, -0.5098, -0.4941, -0.5529,\n",
       "         -0.5529, -0.5529, -0.5529, -0.6314, -0.6314, -0.6392, -0.6863, -0.6863,\n",
       "         -0.7098, -0.7020, -0.7020, -0.6941],\n",
       "        [-0.4784, -0.5020, -0.5020, -0.4784, -0.5098, -0.5098, -0.4941, -0.5529,\n",
       "         -0.5529, -0.5529, -0.5529, -0.6314, -0.6314, -0.6392, -0.6863, -0.6863,\n",
       "         -0.7098, -0.7020, -0.7020, -0.6941],\n",
       "        [-0.4784, -0.4902, -0.4902, -0.4745, -0.4980, -0.4980, -0.4902, -0.5412,\n",
       "         -0.5412, -0.5412, -0.5490, -0.6196, -0.6196, -0.6353, -0.6784, -0.6784,\n",
       "         -0.7098, -0.6902, -0.6902, -0.6941],\n",
       "        [-0.5490, -0.5961, -0.5961, -0.5412, -0.3961, -0.3961, -0.3686, -0.2980,\n",
       "         -0.2980, -0.2980, -0.3059, -0.4275, -0.4275, -0.4667, -0.7059, -0.7059,\n",
       "         -0.7294, -0.7765, -0.7765, -0.7686],\n",
       "        [-0.5490, -0.5961, -0.5961, -0.5412, -0.3961, -0.3961, -0.3686, -0.2980,\n",
       "         -0.2980, -0.2980, -0.3059, -0.4275, -0.4275, -0.4667, -0.7059, -0.7059,\n",
       "         -0.7294, -0.7765, -0.7765, -0.7647],\n",
       "        [-0.5490, -0.5843, -0.5843, -0.5412, -0.3843, -0.3843, -0.3686, -0.2941,\n",
       "         -0.2941, -0.2941, -0.3059, -0.4157, -0.4157, -0.4667, -0.6941, -0.6941,\n",
       "         -0.7255, -0.7647, -0.7647, -0.7647],\n",
       "        [-0.6549, -0.6314, -0.6314, -0.5765, -0.3451, -0.3451, -0.3294, -0.2824,\n",
       "         -0.2824, -0.2824, -0.2784, -0.3451, -0.3451, -0.3961, -0.6627, -0.6627,\n",
       "         -0.6941, -0.8353, -0.8353, -0.8235],\n",
       "        [-0.6549, -0.6314, -0.6314, -0.5765, -0.3451, -0.3451, -0.3294, -0.2824,\n",
       "         -0.2824, -0.2824, -0.2784, -0.3451, -0.3451, -0.3961, -0.6627, -0.6627,\n",
       "         -0.6941, -0.8353, -0.8353, -0.8235],\n",
       "        [-0.6549, -0.6314, -0.6314, -0.5765, -0.3451, -0.3451, -0.3294, -0.2824,\n",
       "         -0.2824, -0.2824, -0.2784, -0.3451, -0.3451, -0.3961, -0.6627, -0.6627,\n",
       "         -0.6941, -0.8353, -0.8353, -0.8235],\n",
       "        [-0.7020, -0.6471, -0.6471, -0.6000, -0.3569, -0.3569, -0.3412, -0.2941,\n",
       "         -0.2941, -0.2941, -0.2902, -0.3373, -0.3373, -0.3922, -0.6549, -0.6549,\n",
       "         -0.6941, -0.9294, -0.9294, -0.9294],\n",
       "        [-0.7451, -0.6627, -0.6627, -0.6078, -0.3647, -0.3647, -0.3569, -0.3529,\n",
       "         -0.3529, -0.3529, -0.3412, -0.3647, -0.3647, -0.4078, -0.6353, -0.6353,\n",
       "         -0.6627, -0.8941, -0.8941, -0.8824],\n",
       "        [-0.7451, -0.6627, -0.6627, -0.6078, -0.3647, -0.3647, -0.3569, -0.3529,\n",
       "         -0.3529, -0.3529, -0.3412, -0.3647, -0.3647, -0.4078, -0.6353, -0.6353,\n",
       "         -0.6627, -0.8941, -0.8941, -0.8824],\n",
       "        [-0.7451, -0.6627, -0.6627, -0.6078, -0.3569, -0.3569, -0.3569, -0.3451,\n",
       "         -0.3451, -0.3451, -0.3412, -0.3569, -0.3569, -0.4039, -0.6353, -0.6353,\n",
       "         -0.6627, -0.8941, -0.8941, -0.8824],\n",
       "        [-0.8314, -0.7569, -0.7569, -0.7059, -0.4471, -0.4471, -0.4235, -0.3333,\n",
       "         -0.3333, -0.3333, -0.3412, -0.4314, -0.4314, -0.4667, -0.7216, -0.7216,\n",
       "         -0.7373, -0.9647, -0.9647, -0.9451],\n",
       "        [-0.8314, -0.7569, -0.7569, -0.7059, -0.4471, -0.4471, -0.4235, -0.3333,\n",
       "         -0.3333, -0.3333, -0.3412, -0.4314, -0.4314, -0.4667, -0.7216, -0.7216,\n",
       "         -0.7373, -0.9647, -0.9647, -0.9451],\n",
       "        [-0.8314, -0.7569, -0.7569, -0.7059, -0.4471, -0.4471, -0.4235, -0.3333,\n",
       "         -0.3333, -0.3333, -0.3412, -0.4314, -0.4314, -0.4667, -0.7216, -0.7216,\n",
       "         -0.7412, -0.9647, -0.9647, -0.9451],\n",
       "        [-0.8902, -0.8549, -0.8549, -0.8275, -0.7333, -0.7333, -0.7216, -0.6706,\n",
       "         -0.6706, -0.6706, -0.6667, -0.6471, -0.6471, -0.6588, -0.8118, -0.8118,\n",
       "         -0.8118, -0.9373, -0.9373, -0.9137],\n",
       "        [-0.8902, -0.8549, -0.8549, -0.8275, -0.7333, -0.7333, -0.7216, -0.6706,\n",
       "         -0.6706, -0.6706, -0.6667, -0.6471, -0.6471, -0.6588, -0.8118, -0.8118,\n",
       "         -0.8157, -0.9373, -0.9373, -0.9137],\n",
       "        [-0.8902, -0.8549, -0.8549, -0.8275, -0.7333, -0.7333, -0.7216, -0.6706,\n",
       "         -0.6706, -0.6706, -0.6667, -0.6471, -0.6471, -0.6588, -0.8118, -0.8118,\n",
       "         -0.8157, -0.9373, -0.9373, -0.9137],\n",
       "        [-0.9255, -0.7725, -0.7725, -0.7490, -0.6706, -0.6706, -0.6588, -0.5765,\n",
       "         -0.5765, -0.5765, -0.5765, -0.5569, -0.5569, -0.5725, -0.7529, -0.7529,\n",
       "         -0.7569, -0.7961, -0.8275, -0.8078]])"
      ]
     },
     "execution_count": 11,
     "metadata": {},
     "output_type": "execute_result"
    }
   ],
   "source": [
    "sum(batch[9]-batch[0])"
   ]
  },
  {
   "cell_type": "code",
   "execution_count": 16,
   "metadata": {},
   "outputs": [],
   "source": [
    "encoder=vqvae.encoder.to('cuda')\n",
    "vq_layer= vqvae.vq_layer.to('cuda')"
   ]
  },
  {
   "cell_type": "code",
   "execution_count": 18,
   "metadata": {},
   "outputs": [
    {
     "data": {
      "text/plain": [
       "torch.Size([250, 16])"
      ]
     },
     "execution_count": 18,
     "metadata": {},
     "output_type": "execute_result"
    }
   ],
   "source": [
    "vqvae.encoder(batch).view(-1, 16).shape"
   ]
  },
  {
   "cell_type": "code",
   "execution_count": 12,
   "metadata": {},
   "outputs": [],
   "source": [
    "a,_=vqvae.vq_layer(vqvae.encoder(batch))"
   ]
  },
  {
   "cell_type": "code",
   "execution_count": 13,
   "metadata": {},
   "outputs": [
    {
     "data": {
      "text/plain": [
       "torch.Size([10, 16, 5, 5])"
      ]
     },
     "execution_count": 13,
     "metadata": {},
     "output_type": "execute_result"
    }
   ],
   "source": [
    "a.shape"
   ]
  },
  {
   "cell_type": "code",
   "execution_count": 35,
   "metadata": {},
   "outputs": [
    {
     "data": {
      "text/plain": [
       "tensor([[-0.1426,  0.0590,  0.4325,  0.4278,  0.1018],\n",
       "        [-0.0964,  0.0959,  0.5644,  0.3712,  0.1350],\n",
       "        [-0.0614,  0.1468,  0.3577,  0.1026,  0.0429],\n",
       "        [-0.0263,  0.0909,  0.0237, -0.3929, -0.2542],\n",
       "        [-0.1569, -0.3325, -0.6611, -0.8779, -0.5176]], grad_fn=<AddBackward0>)"
      ]
     },
     "execution_count": 35,
     "metadata": {},
     "output_type": "execute_result"
    }
   ],
   "source": [
    "sum(a[8]-a[0])"
   ]
  },
  {
   "cell_type": "code",
   "execution_count": 27,
   "metadata": {},
   "outputs": [],
   "source": [
    "mlp = nn.Linear(16 * 5 * 5, 1024)\n",
    "flattened_output = a.view(a.size(0), -1)"
   ]
  },
  {
   "cell_type": "code",
   "execution_count": 34,
   "metadata": {},
   "outputs": [
    {
     "data": {
      "text/plain": [
       "tensor(2.4415, grad_fn=<AddBackward0>)"
      ]
     },
     "execution_count": 34,
     "metadata": {},
     "output_type": "execute_result"
    }
   ],
   "source": [
    "sum(flattened_output[9]-flattened_output[0])"
   ]
  },
  {
   "cell_type": "markdown",
   "metadata": {},
   "source": [
    "-----------------------------"
   ]
  },
  {
   "cell_type": "code",
   "execution_count": null,
   "metadata": {},
   "outputs": [
    {
     "name": "stderr",
     "output_type": "stream",
     "text": [
      "E:\\conda\\envs\\thitogene\\lib\\site-packages\\anndata\\_core\\anndata.py:121: ImplicitModificationWarning: Transforming to str index.\n",
      "  warnings.warn(\"Transforming to str index.\", ImplicitModificationWarning)\n",
      "E:\\conda\\envs\\thitogene\\lib\\site-packages\\anndata\\_core\\anndata.py:121: ImplicitModificationWarning: Transforming to str index.\n",
      "  warnings.warn(\"Transforming to str index.\", ImplicitModificationWarning)\n",
      "E:\\conda\\envs\\thitogene\\lib\\site-packages\\anndata\\_core\\anndata.py:121: ImplicitModificationWarning: Transforming to str index.\n",
      "  warnings.warn(\"Transforming to str index.\", ImplicitModificationWarning)\n",
      "E:\\conda\\envs\\thitogene\\lib\\site-packages\\anndata\\_core\\anndata.py:121: ImplicitModificationWarning: Transforming to str index.\n",
      "  warnings.warn(\"Transforming to str index.\", ImplicitModificationWarning)\n",
      "E:\\conda\\envs\\thitogene\\lib\\site-packages\\anndata\\_core\\anndata.py:121: ImplicitModificationWarning: Transforming to str index.\n",
      "  warnings.warn(\"Transforming to str index.\", ImplicitModificationWarning)\n",
      "E:\\conda\\envs\\thitogene\\lib\\site-packages\\anndata\\_core\\anndata.py:121: ImplicitModificationWarning: Transforming to str index.\n",
      "  warnings.warn(\"Transforming to str index.\", ImplicitModificationWarning)\n",
      "E:\\conda\\envs\\thitogene\\lib\\site-packages\\anndata\\_core\\anndata.py:121: ImplicitModificationWarning: Transforming to str index.\n",
      "  warnings.warn(\"Transforming to str index.\", ImplicitModificationWarning)\n"
     ]
    }
   ],
   "source": [
    "NAMES = ['DC1','DC5', 'UC1_I', 'UC1_NI', 'UC6_I', 'UC6_NI', 'UC7_I', 'UC9_I']\n",
    "dir = f'D:/data/crunch_large/data/'\n",
    "anucleus={}\n",
    "cell_id_group={}\n",
    "import spatialdata as sd\n",
    "for name in NAMES[1:3]:\n",
    "    sdata = sd.read_zarr(f\"{dir}/{name}.zarr\")\n",
    "    anucleus[name]=sdata['anucleus']\n",
    "    cell_id_group[name]=sdata['cell_id-group']"
   ]
  },
  {
   "cell_type": "code",
   "execution_count": null,
   "metadata": {},
   "outputs": [
    {
     "data": {
      "text/plain": [
       "AnnData object with n_obs × n_vars = 140368 × 460\n",
       "    obs: 'cell_id'\n",
       "    var: 'gene_symbols'\n",
       "    obsm: 'spatial'\n",
       "    layers: 'counts'"
      ]
     },
     "execution_count": 41,
     "metadata": {},
     "output_type": "execute_result"
    }
   ],
   "source": [
    "anucleus['DC5']"
   ]
  },
  {
   "cell_type": "code",
   "execution_count": 73,
   "metadata": {},
   "outputs": [],
   "source": [
    "name='DC5'\n",
    "cell_id_train = cell_id_group[name].obs[cell_id_group[name].obs['group'] == 'train']['cell_id'].to_numpy()\n",
    "cell_id_train = list(set(cell_id_train).intersection(set(anucleus[name].obs['cell_id'].unique())))"
   ]
  },
  {
   "cell_type": "code",
   "execution_count": 87,
   "metadata": {},
   "outputs": [
    {
     "data": {
      "text/plain": [
       "(140368, 224325)"
      ]
     },
     "execution_count": 87,
     "metadata": {},
     "output_type": "execute_result"
    }
   ],
   "source": [
    "len(cell_id_train),cell_id_train[-1]"
   ]
  },
  {
   "cell_type": "code",
   "execution_count": 88,
   "metadata": {},
   "outputs": [
    {
     "data": {
      "text/plain": [
       "(5              6\n",
       " 11            12\n",
       " 13            14\n",
       " 22            23\n",
       " 36            37\n",
       "            ...  \n",
       " 223420    130831\n",
       " 223433    130863\n",
       " 223443    130886\n",
       " 223450    130911\n",
       " 223474    130959\n",
       " Name: cell_id, Length: 171019, dtype: uint32,\n",
       " 5         train\n",
       " 11        train\n",
       " 13        train\n",
       " 22        train\n",
       " 36        train\n",
       "           ...  \n",
       " 223420     test\n",
       " 223433     test\n",
       " 223443     test\n",
       " 223450     test\n",
       " 223474     test\n",
       " Name: group, Length: 171019, dtype: object)"
      ]
     },
     "execution_count": 88,
     "metadata": {},
     "output_type": "execute_result"
    }
   ],
   "source": [
    "cell_id_group[name].obs['cell_id'],cell_id_group[name].obs['group']"
   ]
  },
  {
   "cell_type": "code",
   "execution_count": 22,
   "metadata": {},
   "outputs": [],
   "source": [
    "import pickle\n",
    "pre_load_path= '../../pre_load'\n",
    "name= 'DC1'\n",
    "with open(f'{pre_load_path}/{name}_cells.pkl','rb') as f:\n",
    "            cell_list= pickle.load(f)"
   ]
  },
  {
   "cell_type": "code",
   "execution_count": 23,
   "metadata": {},
   "outputs": [],
   "source": [
    "for props in cell_list:\n",
    "    props['anucleus']=np.array([])\n",
    "with open(f'{pre_load_path}/{name}_cells.pkl','wb') as f:\n",
    "            pickle.dump(cell_list,f)"
   ]
  },
  {
   "cell_type": "code",
   "execution_count": 20,
   "metadata": {},
   "outputs": [
    {
     "data": {
      "text/plain": [
       "(171019,\n",
       " {'center': (43763.45, 43448.01818181818),\n",
       "  'cell_id': 224325,\n",
       "  'label': 'train',\n",
       "  'anucleus': array([0, 0, 0, 0, 0, 0, 0, 0, 0, 0, 0, 0, 0, 0, 0, 0, 0, 0, 1, 0, 0, 0,\n",
       "         0, 0, 0, 0, 1, 0, 4, 0, 0, 0, 0, 0, 0, 1, 0, 0, 0, 0, 0, 0, 0, 0,\n",
       "         0, 0, 0, 0, 0, 0, 0, 0, 0, 0, 0, 0, 0, 0, 0, 0, 0, 0, 0, 0, 0, 0,\n",
       "         0, 0, 0, 0, 0, 0, 0, 0, 0, 0, 0, 0, 0, 0, 0, 0, 0, 0, 0, 0, 0, 0,\n",
       "         0, 0, 1, 0, 0, 2, 4, 0, 0, 0, 1, 0, 0, 0, 0, 0, 1, 0, 0, 0, 0, 0,\n",
       "         0, 0, 0, 0, 0, 0, 0, 0, 0, 0, 0, 0, 0, 0, 0, 0, 0, 0, 0, 0, 0, 0,\n",
       "         0, 0, 0, 0, 0, 0, 0, 0, 0, 0, 0, 0, 0, 0, 0, 0, 0, 0, 2, 0, 0, 0,\n",
       "         0, 0, 0, 0, 0, 0, 0, 0, 0, 0, 0, 0, 0, 0, 0, 0, 0, 0, 0, 0, 1, 0,\n",
       "         0, 0, 0, 0, 0, 0, 0, 0, 0, 1, 0, 0, 0, 0, 2, 0, 0, 0, 0, 0, 1, 0,\n",
       "         0, 0, 0, 1, 0, 0, 0, 0, 1, 1, 0, 0, 0, 0, 0, 0, 0, 0, 0, 0, 0, 1,\n",
       "         0, 0, 0, 0, 0, 0, 0, 0, 0, 0, 0, 1, 0, 0, 0, 0, 0, 0, 0, 0, 0, 0,\n",
       "         0, 0, 0, 0, 0, 0, 0, 0, 0, 0, 0, 0, 0, 0, 0, 0, 1, 0, 0, 0, 0, 6,\n",
       "         0, 0, 0, 0, 0, 0, 0, 4, 0, 0, 0, 0, 0, 0, 0, 0, 0, 0, 0, 0, 0, 0,\n",
       "         0, 0, 0, 0, 0, 0, 0, 0, 0, 0, 0, 0, 0, 0, 0, 3, 0, 0, 2, 0, 0, 0,\n",
       "         0, 0, 0, 0, 0, 0, 0, 0, 0, 0, 0, 0, 0, 0, 0, 0, 0, 0, 0, 0, 0, 0,\n",
       "         0, 0, 0, 1, 0, 0, 0, 0, 1, 0, 0, 0, 0, 0, 1, 0, 1, 0, 0, 0, 0, 0,\n",
       "         0, 0, 0, 0, 0, 0, 0, 0, 0, 0, 0, 0, 0, 0, 0, 0, 1, 0, 0, 0, 1, 0,\n",
       "         0, 0, 0, 0, 0, 1, 0, 0, 0, 0, 0, 0, 0, 0, 0, 0, 1, 2, 0, 0, 0, 0,\n",
       "         0, 0, 0, 0, 0, 0, 0, 0, 0, 0, 0, 0, 0, 0, 0, 0, 0, 0, 0, 0, 0, 0,\n",
       "         0, 0, 0, 1, 0, 0, 0, 0, 0, 0, 0, 0, 0, 0, 0, 0, 0, 0, 0, 0, 0, 0,\n",
       "         0, 0, 0, 0, 0, 0, 0, 0, 0, 0, 0, 0, 0, 0, 0, 0, 0, 0, 0, 0],\n",
       "        dtype=int64)})"
      ]
     },
     "execution_count": 20,
     "metadata": {},
     "output_type": "execute_result"
    }
   ],
   "source": [
    "len(cell_list),cell_list[-1]"
   ]
  },
  {
   "cell_type": "code",
   "execution_count": 7,
   "metadata": {},
   "outputs": [
    {
     "name": "stderr",
     "output_type": "stream",
     "text": [
      "E:\\conda\\envs\\thitogene\\lib\\site-packages\\anndata\\_core\\anndata.py:121: ImplicitModificationWarning: Transforming to str index.\n",
      "  warnings.warn(\"Transforming to str index.\", ImplicitModificationWarning)\n"
     ]
    }
   ],
   "source": [
    "import spatialdata as sd\n",
    "\n",
    "dir = f'D:/data/crunch_large/data/'\n",
    "\n",
    "sdata = sd.read_zarr(f\"{dir}/UC7_I.zarr\")\n"
   ]
  },
  {
   "cell_type": "code",
   "execution_count": null,
   "metadata": {},
   "outputs": [
    {
     "ename": "AxisError",
     "evalue": "axis 1 is out of bounds for array of dimension 1",
     "output_type": "error",
     "traceback": [
      "\u001b[1;31m---------------------------------------------------------------------------\u001b[0m",
      "\u001b[1;31mAxisError\u001b[0m                                 Traceback (most recent call last)",
      "Cell \u001b[1;32mIn[12], line 5\u001b[0m\n\u001b[0;32m      2\u001b[0m anucleus\u001b[38;5;241m=\u001b[39m sdata[\u001b[38;5;124m'\u001b[39m\u001b[38;5;124manucleus\u001b[39m\u001b[38;5;124m'\u001b[39m]\n\u001b[0;32m      3\u001b[0m layer_data \u001b[38;5;241m=\u001b[39m anucleus\u001b[38;5;241m.\u001b[39mlayers[\u001b[38;5;124m'\u001b[39m\u001b[38;5;124mcounts\u001b[39m\u001b[38;5;124m'\u001b[39m][:\u001b[38;5;241m32000\u001b[39m][\u001b[38;5;241m0\u001b[39m]\n\u001b[1;32m----> 5\u001b[0m normalized_counts \u001b[38;5;241m=\u001b[39m layer_data \u001b[38;5;241m/\u001b[39m \u001b[43mlayer_data\u001b[49m\u001b[38;5;241;43m.\u001b[39;49m\u001b[43msum\u001b[49m\u001b[43m(\u001b[49m\u001b[43maxis\u001b[49m\u001b[38;5;241;43m=\u001b[39;49m\u001b[38;5;241;43m1\u001b[39;49m\u001b[43m,\u001b[49m\u001b[43m \u001b[49m\u001b[43mkeepdims\u001b[49m\u001b[38;5;241;43m=\u001b[39;49m\u001b[38;5;28;43;01mTrue\u001b[39;49;00m\u001b[43m)\u001b[49m \u001b[38;5;241m*\u001b[39m \u001b[38;5;241m100\u001b[39m\n\u001b[0;32m      7\u001b[0m log_normalized_counts \u001b[38;5;241m=\u001b[39m np\u001b[38;5;241m.\u001b[39mlog1p(normalized_counts)\n",
      "File \u001b[1;32mE:\\conda\\envs\\thitogene\\lib\\site-packages\\numpy\\core\\_methods.py:49\u001b[0m, in \u001b[0;36m_sum\u001b[1;34m(a, axis, dtype, out, keepdims, initial, where)\u001b[0m\n\u001b[0;32m     47\u001b[0m \u001b[38;5;28;01mdef\u001b[39;00m \u001b[38;5;21m_sum\u001b[39m(a, axis\u001b[38;5;241m=\u001b[39m\u001b[38;5;28;01mNone\u001b[39;00m, dtype\u001b[38;5;241m=\u001b[39m\u001b[38;5;28;01mNone\u001b[39;00m, out\u001b[38;5;241m=\u001b[39m\u001b[38;5;28;01mNone\u001b[39;00m, keepdims\u001b[38;5;241m=\u001b[39m\u001b[38;5;28;01mFalse\u001b[39;00m,\n\u001b[0;32m     48\u001b[0m          initial\u001b[38;5;241m=\u001b[39m_NoValue, where\u001b[38;5;241m=\u001b[39m\u001b[38;5;28;01mTrue\u001b[39;00m):\n\u001b[1;32m---> 49\u001b[0m     \u001b[38;5;28;01mreturn\u001b[39;00m \u001b[43mumr_sum\u001b[49m\u001b[43m(\u001b[49m\u001b[43ma\u001b[49m\u001b[43m,\u001b[49m\u001b[43m \u001b[49m\u001b[43maxis\u001b[49m\u001b[43m,\u001b[49m\u001b[43m \u001b[49m\u001b[43mdtype\u001b[49m\u001b[43m,\u001b[49m\u001b[43m \u001b[49m\u001b[43mout\u001b[49m\u001b[43m,\u001b[49m\u001b[43m \u001b[49m\u001b[43mkeepdims\u001b[49m\u001b[43m,\u001b[49m\u001b[43m \u001b[49m\u001b[43minitial\u001b[49m\u001b[43m,\u001b[49m\u001b[43m \u001b[49m\u001b[43mwhere\u001b[49m\u001b[43m)\u001b[49m\n",
      "\u001b[1;31mAxisError\u001b[0m: axis 1 is out of bounds for array of dimension 1"
     ]
    }
   ],
   "source": [
    "import scanpy as sc\n",
    "anucleus= sdata['anucleus']\n",
    "layer_data = anucleus.layers['counts']\n",
    "\n",
    "normalized_counts = layer_data / layer_data.sum(axis=1, keepdims=True) * 100\n",
    "\n",
    "log_normalized_counts = np.log1p(normalized_counts)\n"
   ]
  },
  {
   "cell_type": "code",
   "execution_count": 21,
   "metadata": {},
   "outputs": [],
   "source": [
    "layer_data = anucleus.layers['counts'][0:1]\n",
    "layer_data.shape\n",
    "normalized_counts = layer_data / layer_data.sum(axis=1, keepdims=True) * 100\n",
    "\n",
    "log_normalized_counts = np.log1p(normalized_counts)"
   ]
  },
  {
   "cell_type": "code",
   "execution_count": 11,
   "metadata": {},
   "outputs": [
    {
     "data": {
      "text/plain": [
       "(array([1.50602482, 0.        , 0.        , 0.        , 0.        ,\n",
       "        0.        , 0.        , 0.        , 0.        , 0.        ,\n",
       "        0.        , 0.        , 0.        , 0.        , 0.        ,\n",
       "        0.        , 0.        , 0.        , 0.        , 0.        ,\n",
       "        0.        , 0.        , 1.01319454, 0.        , 1.83468451,\n",
       "        1.50602482, 0.        , 0.        , 0.        , 0.        ,\n",
       "        0.        , 0.        , 0.        , 0.        , 0.        ,\n",
       "        1.50602482, 0.        , 0.        , 0.        , 0.        ,\n",
       "        0.        , 0.        , 0.        , 0.        , 0.        ,\n",
       "        0.        , 0.        , 0.        , 0.        , 0.        ,\n",
       "        0.        , 0.        , 0.        , 0.        , 0.        ,\n",
       "        0.        , 0.        , 0.        , 0.        , 0.        ,\n",
       "        1.01319454, 0.        , 0.        , 0.        , 0.        ,\n",
       "        0.        , 0.        , 0.        , 0.        , 0.        ,\n",
       "        0.        , 0.        , 0.        , 0.        , 0.        ,\n",
       "        0.        , 0.        , 0.        , 0.        , 0.        ,\n",
       "        0.        , 0.        , 0.        , 0.        , 0.        ,\n",
       "        0.        , 0.        , 0.        , 0.        , 0.        ,\n",
       "        0.        , 0.        , 0.        , 0.        , 0.        ,\n",
       "        0.        , 0.        , 0.        , 0.        , 0.        ,\n",
       "        0.        , 0.        , 0.        , 0.        , 0.        ,\n",
       "        0.        , 0.        , 0.        , 1.01319454, 1.50602482,\n",
       "        2.08163212, 2.58631199, 0.        , 0.        , 0.        ,\n",
       "        0.        , 0.        , 0.        , 0.        , 0.        ,\n",
       "        0.        , 0.        , 0.        , 0.        , 0.        ,\n",
       "        0.        , 0.        , 0.        , 0.        , 0.        ,\n",
       "        0.        , 0.        , 0.        , 0.        , 0.        ,\n",
       "        0.        , 0.        , 0.        , 0.        , 0.        ,\n",
       "        0.        , 0.        , 0.        , 0.        , 0.        ,\n",
       "        0.        , 0.        , 0.        , 0.        , 0.        ,\n",
       "        0.        , 0.        , 0.        , 0.        , 0.        ,\n",
       "        0.        , 0.        , 0.        , 0.        , 0.        ,\n",
       "        0.        , 0.        , 0.        , 0.        , 0.        ,\n",
       "        0.        , 0.        , 0.        , 0.        , 0.        ,\n",
       "        0.        , 0.        , 0.        , 0.        , 0.        ,\n",
       "        0.        , 0.        , 0.        , 0.        , 0.        ,\n",
       "        0.        , 0.        , 0.        , 0.        , 0.        ,\n",
       "        0.        , 0.        , 0.        , 0.        , 0.        ,\n",
       "        0.        , 0.        , 1.01319454, 0.        , 0.        ,\n",
       "        0.        , 0.        , 0.        , 0.        , 0.        ,\n",
       "        0.        , 0.        , 0.        , 0.        , 0.        ,\n",
       "        0.        , 0.        , 0.        , 0.        , 0.        ,\n",
       "        1.50602482, 1.83468451, 1.01319454, 1.50602482, 0.        ,\n",
       "        0.        , 0.        , 0.        , 0.        , 0.        ,\n",
       "        0.        , 0.        , 0.        , 0.        , 0.        ,\n",
       "        0.        , 0.        , 0.        , 0.        , 0.        ,\n",
       "        0.        , 0.        , 0.        , 0.        , 0.        ,\n",
       "        0.        , 0.        , 0.        , 0.        , 0.        ,\n",
       "        0.        , 0.        , 0.        , 0.        , 0.        ,\n",
       "        0.        , 0.        , 0.        , 1.01319454, 0.        ,\n",
       "        0.        , 0.        , 0.        , 0.        , 1.01319454,\n",
       "        0.        , 0.        , 0.        , 0.        , 0.        ,\n",
       "        0.        , 0.        , 0.        , 1.01319454, 0.        ,\n",
       "        1.01319454, 0.        , 0.        , 0.        , 0.        ,\n",
       "        0.        , 0.        , 0.        , 0.        , 0.        ,\n",
       "        0.        , 0.        , 0.        , 0.        , 0.        ,\n",
       "        0.        , 0.        , 0.        , 0.        , 1.01319454,\n",
       "        0.        , 0.        , 0.        , 0.        , 0.        ,\n",
       "        0.        , 0.        , 0.        , 0.        , 0.        ,\n",
       "        0.        , 0.        , 0.        , 0.        , 0.        ,\n",
       "        0.        , 0.        , 0.        , 1.01319454, 0.        ,\n",
       "        0.        , 0.        , 0.        , 0.        , 0.        ,\n",
       "        0.        , 0.        , 0.        , 0.        , 0.        ,\n",
       "        0.        , 0.        , 0.        , 0.        , 0.        ,\n",
       "        1.01319454, 0.        , 0.        , 0.        , 0.        ,\n",
       "        0.        , 0.        , 0.        , 0.        , 0.        ,\n",
       "        1.01319454, 0.        , 0.        , 0.        , 0.        ,\n",
       "        0.        , 1.83468451, 0.        , 0.        , 0.        ,\n",
       "        0.        , 0.        , 0.        , 0.        , 0.        ,\n",
       "        1.50602482, 0.        , 0.        , 0.        , 0.        ,\n",
       "        0.        , 0.        , 0.        , 0.        , 0.        ,\n",
       "        0.        , 0.        , 0.        , 0.        , 0.        ,\n",
       "        0.        , 0.        , 0.        , 0.        , 0.        ,\n",
       "        0.        , 0.        , 0.        , 0.        , 0.        ,\n",
       "        0.        , 0.        , 0.        , 0.        , 0.        ,\n",
       "        0.        , 0.        , 0.        , 0.        , 0.        ,\n",
       "        0.        , 0.        , 0.        , 0.        , 0.        ,\n",
       "        0.        , 0.        , 0.        , 0.        , 0.        ,\n",
       "        0.        , 0.        , 0.        , 0.        , 1.01319454,\n",
       "        0.        , 0.        , 0.        , 0.        , 0.        ,\n",
       "        0.        , 0.        , 0.        , 0.        , 0.        ,\n",
       "        0.        , 0.        , 0.        , 0.        , 0.        ,\n",
       "        0.        , 0.        , 0.        , 0.        , 0.        ,\n",
       "        0.        , 0.        , 0.        , 0.        , 0.        ,\n",
       "        0.        , 0.        , 0.        , 0.        , 0.        ,\n",
       "        0.        , 1.01319454, 0.        , 0.        , 0.        ,\n",
       "        1.50602482, 0.        , 0.        , 0.        , 0.        ,\n",
       "        0.        , 0.        , 1.01319454, 0.        , 0.        ,\n",
       "        0.        , 0.        , 0.        , 1.01319454, 0.        ,\n",
       "        0.        , 0.        , 0.        , 0.        , 0.        ,\n",
       "        0.        , 0.        , 0.        , 0.        , 1.01319454,\n",
       "        0.        , 1.50602482, 0.        , 0.        , 1.01319454]),\n",
       " array([1.5060248, 0.       , 0.       , 0.       , 0.       , 0.       ,\n",
       "        0.       , 0.       , 0.       , 0.       , 0.       , 0.       ,\n",
       "        0.       , 0.       , 0.       , 0.       , 0.       , 0.       ,\n",
       "        0.       , 0.       , 0.       , 0.       , 1.0131946, 0.       ,\n",
       "        1.8346845, 1.5060248, 0.       , 0.       , 0.       , 0.       ,\n",
       "        0.       , 0.       , 0.       , 0.       , 0.       , 1.5060248,\n",
       "        0.       , 0.       , 0.       , 0.       , 0.       , 0.       ,\n",
       "        0.       , 0.       , 0.       , 0.       , 0.       , 0.       ,\n",
       "        0.       , 0.       , 0.       , 0.       , 0.       , 0.       ,\n",
       "        0.       , 0.       , 0.       , 0.       , 0.       , 0.       ,\n",
       "        1.0131946, 0.       , 0.       , 0.       , 0.       , 0.       ,\n",
       "        0.       , 0.       , 0.       , 0.       , 0.       , 0.       ,\n",
       "        0.       , 0.       , 0.       , 0.       , 0.       , 0.       ,\n",
       "        0.       , 0.       , 0.       , 0.       , 0.       , 0.       ,\n",
       "        0.       , 0.       , 0.       , 0.       , 0.       , 0.       ,\n",
       "        0.       , 0.       , 0.       , 0.       , 0.       , 0.       ,\n",
       "        0.       , 0.       , 0.       , 0.       , 0.       , 0.       ,\n",
       "        0.       , 0.       , 0.       , 0.       , 0.       , 0.       ,\n",
       "        1.0131946, 1.5060248, 2.0816321, 2.586312 , 0.       , 0.       ,\n",
       "        0.       , 0.       , 0.       , 0.       , 0.       , 0.       ,\n",
       "        0.       , 0.       , 0.       , 0.       , 0.       , 0.       ,\n",
       "        0.       , 0.       , 0.       , 0.       , 0.       , 0.       ,\n",
       "        0.       , 0.       , 0.       , 0.       , 0.       , 0.       ,\n",
       "        0.       , 0.       , 0.       , 0.       , 0.       , 0.       ,\n",
       "        0.       , 0.       , 0.       , 0.       , 0.       , 0.       ,\n",
       "        0.       , 0.       , 0.       , 0.       , 0.       , 0.       ,\n",
       "        0.       , 0.       , 0.       , 0.       , 0.       , 0.       ,\n",
       "        0.       , 0.       , 0.       , 0.       , 0.       , 0.       ,\n",
       "        0.       , 0.       , 0.       , 0.       , 0.       , 0.       ,\n",
       "        0.       , 0.       , 0.       , 0.       , 0.       , 0.       ,\n",
       "        0.       , 0.       , 0.       , 0.       , 0.       , 0.       ,\n",
       "        0.       , 0.       , 0.       , 0.       , 0.       , 0.       ,\n",
       "        1.0131946, 0.       , 0.       , 0.       , 0.       , 0.       ,\n",
       "        0.       , 0.       , 0.       , 0.       , 0.       , 0.       ,\n",
       "        0.       , 0.       , 0.       , 0.       , 0.       , 0.       ,\n",
       "        1.5060248, 1.8346845, 1.0131946, 1.5060248, 0.       , 0.       ,\n",
       "        0.       , 0.       , 0.       , 0.       , 0.       , 0.       ,\n",
       "        0.       , 0.       , 0.       , 0.       , 0.       , 0.       ,\n",
       "        0.       , 0.       , 0.       , 0.       , 0.       , 0.       ,\n",
       "        0.       , 0.       , 0.       , 0.       , 0.       , 0.       ,\n",
       "        0.       , 0.       , 0.       , 0.       , 0.       , 0.       ,\n",
       "        0.       , 0.       , 1.0131946, 0.       , 0.       , 0.       ,\n",
       "        0.       , 0.       , 1.0131946, 0.       , 0.       , 0.       ,\n",
       "        0.       , 0.       , 0.       , 0.       , 0.       , 1.0131946,\n",
       "        0.       , 1.0131946, 0.       , 0.       , 0.       , 0.       ,\n",
       "        0.       , 0.       , 0.       , 0.       , 0.       , 0.       ,\n",
       "        0.       , 0.       , 0.       , 0.       , 0.       , 0.       ,\n",
       "        0.       , 0.       , 1.0131946, 0.       , 0.       , 0.       ,\n",
       "        0.       , 0.       , 0.       , 0.       , 0.       , 0.       ,\n",
       "        0.       , 0.       , 0.       , 0.       , 0.       , 0.       ,\n",
       "        0.       , 0.       , 0.       , 1.0131946, 0.       , 0.       ,\n",
       "        0.       , 0.       , 0.       , 0.       , 0.       , 0.       ,\n",
       "        0.       , 0.       , 0.       , 0.       , 0.       , 0.       ,\n",
       "        0.       , 0.       , 1.0131946, 0.       , 0.       , 0.       ,\n",
       "        0.       , 0.       , 0.       , 0.       , 0.       , 0.       ,\n",
       "        1.0131946, 0.       , 0.       , 0.       , 0.       , 0.       ,\n",
       "        1.8346845, 0.       , 0.       , 0.       , 0.       , 0.       ,\n",
       "        0.       , 0.       , 0.       , 1.5060248, 0.       , 0.       ,\n",
       "        0.       , 0.       , 0.       , 0.       , 0.       , 0.       ,\n",
       "        0.       , 0.       , 0.       , 0.       , 0.       , 0.       ,\n",
       "        0.       , 0.       , 0.       , 0.       , 0.       , 0.       ,\n",
       "        0.       , 0.       , 0.       , 0.       , 0.       , 0.       ,\n",
       "        0.       , 0.       , 0.       , 0.       , 0.       , 0.       ,\n",
       "        0.       , 0.       , 0.       , 0.       , 0.       , 0.       ,\n",
       "        0.       , 0.       , 0.       , 0.       , 0.       , 0.       ,\n",
       "        0.       , 0.       , 0.       , 0.       , 1.0131946, 0.       ,\n",
       "        0.       , 0.       , 0.       , 0.       , 0.       , 0.       ,\n",
       "        0.       , 0.       , 0.       , 0.       , 0.       , 0.       ,\n",
       "        0.       , 0.       , 0.       , 0.       , 0.       , 0.       ,\n",
       "        0.       , 0.       , 0.       , 0.       , 0.       , 0.       ,\n",
       "        0.       , 0.       , 0.       , 0.       , 0.       , 0.       ,\n",
       "        1.0131946, 0.       , 0.       , 0.       , 1.5060248, 0.       ,\n",
       "        0.       , 0.       , 0.       , 0.       , 0.       , 1.0131946,\n",
       "        0.       , 0.       , 0.       , 0.       , 0.       , 1.0131946,\n",
       "        0.       , 0.       , 0.       , 0.       , 0.       , 0.       ,\n",
       "        0.       , 0.       , 0.       , 0.       , 1.0131946, 0.       ,\n",
       "        1.5060248, 0.       , 0.       , 1.0131946], dtype=float32))"
      ]
     },
     "execution_count": 11,
     "metadata": {},
     "output_type": "execute_result"
    }
   ],
   "source": [
    "log_normalized_counts[10],anucleus.X[10]"
   ]
  },
  {
   "cell_type": "code",
   "execution_count": 1,
   "metadata": {},
   "outputs": [],
   "source": [
    "import numpy as np\n",
    "import torch"
   ]
  },
  {
   "cell_type": "code",
   "execution_count": 3,
   "metadata": {},
   "outputs": [],
   "source": [
    "save_dir='D:/DATA//Gene_expression/Crunch/preprocessed/20'\n",
    "groups =['train','test','validation']\n",
    "NAMES = ['DC1','DC5', 'UC1_I', 'UC1_NI', 'UC6_I', 'UC6_NI', 'UC7_I', 'UC9_I']\n",
    "\n",
    "for group in groups:\n",
    "    for name in NAMES:\n",
    "        tensors= torch.load(f'{save_dir}/{group}/{name}.pt')\n",
    "        nps= tensors.cpu().numpy()\n",
    "        np.save(f'{save_dir}/{group}/{name}.npy',nps)"
   ]
  },
  {
   "cell_type": "code",
   "execution_count": 2,
   "metadata": {},
   "outputs": [
    {
     "name": "stdout",
     "output_type": "stream",
     "text": [
      "C:\\DATA\\Crunch\\neuron\n"
     ]
    }
   ],
   "source": [
    "%cd .."
   ]
  },
  {
   "cell_type": "code",
   "execution_count": 3,
   "metadata": {},
   "outputs": [
    {
     "ename": "ImportError",
     "evalue": "cannot import name 'NeuronData' from 'dataset' (C:\\DATA\\Crunch\\neuron\\preprocessed\\dataset.py)",
     "output_type": "error",
     "traceback": [
      "\u001b[1;31m---------------------------------------------------------------------------\u001b[0m",
      "\u001b[1;31mImportError\u001b[0m                               Traceback (most recent call last)",
      "Cell \u001b[1;32mIn[3], line 1\u001b[0m\n\u001b[1;32m----> 1\u001b[0m \u001b[38;5;28;01mfrom\u001b[39;00m \u001b[38;5;21;01mdataset\u001b[39;00m \u001b[38;5;28;01mimport\u001b[39;00m NeuronData\n\u001b[0;32m      3\u001b[0m traindata\u001b[38;5;241m=\u001b[39m NeuronData(train\u001b[38;5;241m=\u001b[39m\u001b[38;5;28;01mTrue\u001b[39;00m, split \u001b[38;5;241m=\u001b[39m\u001b[38;5;28;01mTrue\u001b[39;00m)\n",
      "\u001b[1;31mImportError\u001b[0m: cannot import name 'NeuronData' from 'dataset' (C:\\DATA\\Crunch\\neuron\\preprocessed\\dataset.py)"
     ]
    }
   ],
   "source": [
    "from dataset import NeuronData\n",
    "\n",
    "traindata= NeuronData(train=True, split =True)\n"
   ]
  },
  {
   "cell_type": "code",
   "execution_count": 5,
   "metadata": {},
   "outputs": [],
   "source": [
    "import numpy as np\n",
    "a=np.array([1,2,3])\n"
   ]
  },
  {
   "cell_type": "code",
   "execution_count": 24,
   "metadata": {},
   "outputs": [
    {
     "data": {
      "text/plain": [
       "array([[1, 2],\n",
       "       [1, 3],\n",
       "       [1, 4],\n",
       "       [1, 5],\n",
       "       [1, 6],\n",
       "       [2, 1],\n",
       "       [2, 3],\n",
       "       [2, 4],\n",
       "       [2, 5],\n",
       "       [2, 6]])"
      ]
     },
     "execution_count": 24,
     "metadata": {},
     "output_type": "execute_result"
    }
   ],
   "source": [
    "a=np.array([(0, 1), (0, 2), (0, 3), (0, 4), (0, 5), \n",
    "             (1, 0), (1, 2), (1, 3), (1, 4), (1, 5)])\n",
    "a=a+1\n",
    "a"
   ]
  }
 ],
 "metadata": {
  "kernelspec": {
   "display_name": "Python 3 (ipykernel)",
   "language": "python",
   "name": "python3"
  },
  "language_info": {
   "codemirror_mode": {
    "name": "ipython",
    "version": 3
   },
   "file_extension": ".py",
   "mimetype": "text/x-python",
   "name": "python",
   "nbconvert_exporter": "python",
   "pygments_lexer": "ipython3",
   "version": "3.9.20"
  }
 },
 "nbformat": 4,
 "nbformat_minor": 2
}
